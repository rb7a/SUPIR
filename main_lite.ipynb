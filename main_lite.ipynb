{
 "cells": [
  {
   "cell_type": "code",
   "execution_count": null,
   "id": "f5db2775-b352-43ae-8dfa-6af1db2892ad",
   "metadata": {},
   "outputs": [],
   "source": [
    "from IPython.display import clear_output\n",
    "import os\n",
    "import time\n",
    "import shutil\n",
    "\n",
    "!apt-get update\n",
    "!apt-get install libgl1-mesa-glx -y\n",
    "%pip install --upgrade pip setuptools\n",
    "\n",
    "%pip install -r requirements.txt\n",
    "    \n",
    "%pip install torch==2.2.0 torchvision torchaudio --index-url https://download.pytorch.org/whl/cu121 --upgrade\n",
    "%pip install triton\n",
    "%pip install xformers==0.0.24\n",
    "%pip install diffusers==0.26.3\n",
    "   \n",
    "# clear_output()\n",
    "print(\"dependencies installed.\")\n",
    "\n",
    "# disk info\n",
    "def get_storage_stats():\n",
    "    # Run the df command and capture its output\n",
    "    output = !df -h /\n",
    "    disk_info = output[1].split()    \n",
    "    total_storage = disk_info[1]\n",
    "    used_storage = disk_info[2]    \n",
    "    return f\"Storage: {used_storage} used out of {total_storage}\"\n",
    "\n",
    "\n"
   ]
  },
  {
   "cell_type": "code",
   "execution_count": 2,
   "id": "51d7b685-41ad-4188-b66c-480cab6eb3f5",
   "metadata": {},
   "outputs": [],
   "source": [
    "#Make model dirs\n",
    "# import os\n",
    "# import shutil\n",
    "\n",
    "V0F_PATH = \"models/SUPIR-v0F\"\n",
    "V0Q_PATH = \"models/SUPIR-v0Q\"\n",
    "SDXL_BASE_MODEL_PATH = \"models/SDXL_Base\"\n",
    "\n",
    "SDXL_CLIP1_PATH = \"models/clip-vit-large-patch14\"\n",
    "SDXL_CLIP2_CKPT_PTH = \"models/CLIP-ViT-bigG-14-laion2B-39B-b160k\"\n",
    "# LLAVA_CLIP_PATH = \"models/clip-vit-large-patch14-336\"\n",
    "# LLAVA_MODEL_PATH = \"models/llava-v1.5-13b\"\n",
    "\n",
    "# Ensure directories exist\n",
    "os.makedirs(V0F_PATH, exist_ok=True)\n",
    "os.makedirs(V0Q_PATH, exist_ok=True)\n",
    "os.makedirs(SDXL_CLIP1_PATH, exist_ok=True)\n",
    "os.makedirs(SDXL_CLIP2_CKPT_PTH, exist_ok=True)\n",
    "os.makedirs(SDXL_BASE_MODEL_PATH, exist_ok=True)\n",
    "# os.makedirs(LLAVA_CLIP_PATH, exist_ok=True)\n",
    "# os.makedirs(LLAVA_MODEL_PATH, exist_ok=True)\n",
    "\n",
    "print(\"Finished creating directories.\")"
   ]
  },
  {
   "cell_type": "code",
   "execution_count": null,
   "id": "6ab369f8-96db-42a0-8f22-c343d711a8a4",
   "metadata": {},
   "outputs": [],
   "source": [
    "# Create a downloads directory\n",
    "downloads_dir = \"downloads\"\n",
    "os.makedirs(downloads_dir, exist_ok=True)\n",
    "\n",
    "\n",
    "# URLs and their respective extraction paths\n",
    "models_info = [\n",
    "    ('https://huggingface.co/yushan777/SUPIR/resolve/main/SUPIR-v0F.ckpt', V0F_PATH),\n",
    "    ('https://huggingface.co/yushan777/SUPIR/resolve/main/SUPIR-v0Q.ckpt', V0Q_PATH),\n",
    "    ('https://huggingface.co/yushan777/SUPIR/resolve/main/sd_xl_base_1.0_0.9vae.safetensors',SDXL_BASE_MODEL_PATH),\n",
    "    ('https://huggingface.co/yushan777/SUPIR/resolve/main/clip-vit-large-patch14.tar', SDXL_CLIP1_PATH),\n",
    "    ('https://huggingface.co/yushan777/SUPIR/resolve/main/CLIP-ViT-bigG-14-laion2B-39B-b160k.tar', SDXL_CLIP2_CKPT_PTH)\n",
    "]\n",
    "\n",
    "print(\"This will take a while...\\n\")\n",
    "\n",
    "# Download and extract loop\n",
    "for url, extraction_path in models_info:\n",
    "    # Extract the filename from the URL\n",
    "    filename = url.split('/')[-1]\n",
    "    download_path = os.path.join(downloads_dir, filename)\n",
    "    \n",
    "    # Download the file (minimal output + progress)\n",
    "    print(f\"Downloading {filename} from {url} to {download_path}...\")\n",
    "    !wget -q --show-progress {url} -O {download_path}  # Download into the downloads directory\n",
    "    \n",
    "    # Check if the file is a .tar file for extraction\n",
    "    if filename.endswith('.tar'):\n",
    "        print(f\"Extracting {filename} to {extraction_path}...\")\n",
    "        !tar -xf {download_path} -C {extraction_path}\n",
    "    else:\n",
    "        # Since it's not a .tar file, copy it directly to the extraction path\n",
    "        print(f\"Copying {filename} to {extraction_path}\")\n",
    "        destination_path = os.path.join(extraction_path, filename)\n",
    "        shutil.copy(download_path, destination_path)\n",
    "    \n",
    "    # Pause for 3 seconds\n",
    "    # can help mitigate the rare occasional corruption when extracting large files \n",
    "    time.sleep(3)  \n",
    "\n",
    "    # Optionally, remove the comment from the next line if you wish to delete the tar file after extraction\n",
    "    # !rm {download_path}\n",
    "\n",
    "print(\"Finished downloading models.\")"
   ]
  },
  {
   "cell_type": "code",
   "execution_count": null,
   "id": "51e3ad11",
   "metadata": {},
   "outputs": [],
   "source": [
    "\n",
    "# float16() - requires under 12GB VRAM\n",
    "python3 gradio_demo.py --share --no_llava --loading_half_params --use_tile_vae --use_image_slider "
   ]
  }
 ],
 "metadata": {
  "kernelspec": {
   "display_name": "Python 3",
   "language": "python",
   "name": "python3"
  },
  "language_info": {
   "codemirror_mode": {
    "name": "ipython",
    "version": 3
   },
   "file_extension": ".py",
   "mimetype": "text/x-python",
   "name": "python",
   "nbconvert_exporter": "python",
   "pygments_lexer": "ipython3",
   "version": "3.12.1"
  },
  "vscode": {
   "interpreter": {
    "hash": "7500c3e1c7c786e4ba1e4b4eb7588219b4e35d5153674f92eb3a82672b534f6e"
   }
  }
 },
 "nbformat": 4,
 "nbformat_minor": 5
}
